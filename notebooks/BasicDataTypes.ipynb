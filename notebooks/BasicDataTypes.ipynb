{
 "metadata": {
  "name": "",
  "signature": "sha256:4e706ecc82385825bae471352d30a231481c29a84fe4efb00e09000f39d24a2e"
 },
 "nbformat": 3,
 "nbformat_minor": 0,
 "worksheets": [
  {
   "cells": [
    {
     "cell_type": "heading",
     "level": 1,
     "metadata": {},
     "source": [
      "Basic Data Types"
     ]
    },
    {
     "cell_type": "markdown",
     "metadata": {},
     "source": [
      "** Mumodo Demo Notebook ** - Updated on 24.04.2015\n",
      "\n",
      "** Summary: ** This notebook describes the basic data types used by mumodo. In particular, the IntervalFrame, StreamFrame, as well as the InstantIO types are described. \n",
      "\n",
      "**(c) Dialogue Systems Group, University of Bielefeld**"
     ]
    },
    {
     "cell_type": "code",
     "collapsed": false,
     "input": [
      "from mumodo.mumodoIO import open_intervalframe_from_textgrid, open_streamframe_from_xiofile, convert_pointtier_to_streamframe\n",
      "from mumodo.analysis import convert_times_of_tier\n",
      "from mumodo.InstantIO import *\n",
      "import pandas as pd"
     ],
     "language": "python",
     "metadata": {},
     "outputs": [],
     "prompt_number": 1
    },
    {
     "cell_type": "markdown",
     "metadata": {},
     "source": [
      "Analysis in mumodo is based on only two generic types of objects. The StreamFrame and the IntervalFrame. Let's have a look at them."
     ]
    },
    {
     "cell_type": "heading",
     "level": 3,
     "metadata": {},
     "source": [
      "The StreamFrame"
     ]
    },
    {
     "cell_type": "code",
     "collapsed": false,
     "input": [
      "mystreamframe = open_streamframe_from_xiofile(\"sampledata/test.xio.gz\", \n",
      "                                              'VeniceHubReplay/Venice/Body1').ix[:, ['JointPositions3', 'JointPositions4']]"
     ],
     "language": "python",
     "metadata": {},
     "outputs": [
      {
       "output_type": "stream",
       "stream": "stdout",
       "text": [
        "opening compressed file ...\n",
        "opening file without indexing\n"
       ]
      }
     ],
     "prompt_number": 2
    },
    {
     "cell_type": "markdown",
     "metadata": {},
     "source": [
      "A StreamFrame is a *Pandas* DataFrame object (See Pandas Documentation), that satisfies the following conditions\n",
      "\n",
      "* The *index* of the StreamFrame is a *time* axis (typically in milliseconds as integer numbers) \n",
      "* The column names of the StreamFrame represent objects that have values at those specific times\n",
      "\n",
      "So, in essence, StreamFrames are multivariate time series.\n",
      "\n",
      "The powerful Pandas functionality allows easy access to specific cells of the table, using the time and the name of the column e.g."
     ]
    },
    {
     "cell_type": "code",
     "collapsed": false,
     "input": [
      "#so values of the first column in the first 1000 ms\n",
      "print mystreamframe.columns\n",
      "mystreamframe.ix[0:1000, ['JointPositions3']]"
     ],
     "language": "python",
     "metadata": {},
     "outputs": [
      {
       "output_type": "stream",
       "stream": "stdout",
       "text": [
        "Index([u'JointPositions3', u'JointPositions4'], dtype='object')\n"
       ]
      },
      {
       "html": [
        "<div style=\"max-height:1000px;max-width:1500px;overflow:auto;\">\n",
        "<table border=\"1\" class=\"dataframe\">\n",
        "  <thead>\n",
        "    <tr style=\"text-align: right;\">\n",
        "      <th></th>\n",
        "      <th>JointPositions3</th>\n",
        "    </tr>\n",
        "  </thead>\n",
        "  <tbody>\n",
        "    <tr>\n",
        "      <th>0  </th>\n",
        "      <td> [0.957876 -0.152858 1.7562, 0.945315 0.162776 ...</td>\n",
        "    </tr>\n",
        "    <tr>\n",
        "      <th>18 </th>\n",
        "      <td> [0.957869 -0.152829 1.75661, 0.945076 0.162929...</td>\n",
        "    </tr>\n",
        "    <tr>\n",
        "      <th>52 </th>\n",
        "      <td> [0.957912 -0.152832 1.7567, 0.94512 0.162897 1...</td>\n",
        "    </tr>\n",
        "    <tr>\n",
        "      <th>85 </th>\n",
        "      <td> [0.957949 -0.152806 1.75688, 0.945135 0.162988...</td>\n",
        "    </tr>\n",
        "    <tr>\n",
        "      <th>118</th>\n",
        "      <td> [0.957971 -0.152806 1.75699, 0.945102 0.162988...</td>\n",
        "    </tr>\n",
        "    <tr>\n",
        "      <th>151</th>\n",
        "      <td> [0.958053 -0.152739 1.75721, 0.945159 0.163071...</td>\n",
        "    </tr>\n",
        "    <tr>\n",
        "      <th>185</th>\n",
        "      <td> [0.958094 -0.152707 1.75739, 0.94516 0.16309 1...</td>\n",
        "    </tr>\n",
        "    <tr>\n",
        "      <th>218</th>\n",
        "      <td> [0.958163 -0.152711 1.75756, 0.945215 0.163075...</td>\n",
        "    </tr>\n",
        "    <tr>\n",
        "      <th>252</th>\n",
        "      <td> [0.958274 -0.152644 1.75772, 0.945325 0.163101...</td>\n",
        "    </tr>\n",
        "    <tr>\n",
        "      <th>284</th>\n",
        "      <td> [0.958391 -0.152641 1.75794, 0.945421 0.163058...</td>\n",
        "    </tr>\n",
        "    <tr>\n",
        "      <th>318</th>\n",
        "      <td> [0.958553 -0.152569 1.75824, 0.945508 0.163044...</td>\n",
        "    </tr>\n",
        "    <tr>\n",
        "      <th>351</th>\n",
        "      <td> [0.958639 -0.152483 1.7584, 0.945538 0.163107 ...</td>\n",
        "    </tr>\n",
        "    <tr>\n",
        "      <th>385</th>\n",
        "      <td> [0.958754 -0.152495 1.75881, 0.945667 0.163019...</td>\n",
        "    </tr>\n",
        "    <tr>\n",
        "      <th>417</th>\n",
        "      <td> [0.95884 -0.152376 1.75907, 0.945764 0.163064 ...</td>\n",
        "    </tr>\n",
        "    <tr>\n",
        "      <th>451</th>\n",
        "      <td> [0.95892 -0.152272 1.75935, 0.945897 0.163253 ...</td>\n",
        "    </tr>\n",
        "    <tr>\n",
        "      <th>484</th>\n",
        "      <td> [0.959079 -0.152045 1.7597, 0.946018 0.163436 ...</td>\n",
        "    </tr>\n",
        "    <tr>\n",
        "      <th>518</th>\n",
        "      <td> [0.959204 -0.151983 1.76001, 0.94609 0.16356 1...</td>\n",
        "    </tr>\n",
        "    <tr>\n",
        "      <th>552</th>\n",
        "      <td> [0.959443 -0.15182 1.7604, 0.945945 0.163811 1...</td>\n",
        "    </tr>\n",
        "    <tr>\n",
        "      <th>585</th>\n",
        "      <td> [0.959574 -0.151726 1.7607, 0.946026 0.163902 ...</td>\n",
        "    </tr>\n",
        "    <tr>\n",
        "      <th>618</th>\n",
        "      <td> [0.959853 -0.15165 1.76125, 0.946239 0.164002 ...</td>\n",
        "    </tr>\n",
        "    <tr>\n",
        "      <th>652</th>\n",
        "      <td> [0.960079 -0.151612 1.76159, 0.946377 0.164147...</td>\n",
        "    </tr>\n",
        "    <tr>\n",
        "      <th>684</th>\n",
        "      <td> [0.960255 -0.151455 1.7618, 0.946458 0.164266 ...</td>\n",
        "    </tr>\n",
        "    <tr>\n",
        "      <th>717</th>\n",
        "      <td> [0.960455 -0.15139 1.76235, 0.946586 0.164278 ...</td>\n",
        "    </tr>\n",
        "    <tr>\n",
        "      <th>751</th>\n",
        "      <td> [0.960685 -0.151299 1.76267, 0.946709 0.164334...</td>\n",
        "    </tr>\n",
        "    <tr>\n",
        "      <th>784</th>\n",
        "      <td> [0.96077 -0.151272 1.76276, 0.946804 0.164323 ...</td>\n",
        "    </tr>\n",
        "    <tr>\n",
        "      <th>817</th>\n",
        "      <td> [0.961199 -0.151221 1.7632, 0.947132 0.164374 ...</td>\n",
        "    </tr>\n",
        "    <tr>\n",
        "      <th>851</th>\n",
        "      <td> [0.961467 -0.151137 1.76363, 0.947255 0.164508...</td>\n",
        "    </tr>\n",
        "    <tr>\n",
        "      <th>884</th>\n",
        "      <td> [0.961747 -0.15096 1.76423, 0.94766 0.164767 1...</td>\n",
        "    </tr>\n",
        "    <tr>\n",
        "      <th>917</th>\n",
        "      <td> [0.96206 -0.150904 1.76454, 0.94795 0.164934 1...</td>\n",
        "    </tr>\n",
        "    <tr>\n",
        "      <th>951</th>\n",
        "      <td> [0.96233 -0.150754 1.76483, 0.948115 0.165109 ...</td>\n",
        "    </tr>\n",
        "    <tr>\n",
        "      <th>984</th>\n",
        "      <td> [0.962696 -0.150661 1.76525, 0.948486 0.165374...</td>\n",
        "    </tr>\n",
        "  </tbody>\n",
        "</table>\n",
        "</div>"
       ],
       "metadata": {},
       "output_type": "pyout",
       "prompt_number": 3,
       "text": [
        "                                       JointPositions3\n",
        "0    [0.957876 -0.152858 1.7562, 0.945315 0.162776 ...\n",
        "18   [0.957869 -0.152829 1.75661, 0.945076 0.162929...\n",
        "52   [0.957912 -0.152832 1.7567, 0.94512 0.162897 1...\n",
        "85   [0.957949 -0.152806 1.75688, 0.945135 0.162988...\n",
        "118  [0.957971 -0.152806 1.75699, 0.945102 0.162988...\n",
        "151  [0.958053 -0.152739 1.75721, 0.945159 0.163071...\n",
        "185  [0.958094 -0.152707 1.75739, 0.94516 0.16309 1...\n",
        "218  [0.958163 -0.152711 1.75756, 0.945215 0.163075...\n",
        "252  [0.958274 -0.152644 1.75772, 0.945325 0.163101...\n",
        "284  [0.958391 -0.152641 1.75794, 0.945421 0.163058...\n",
        "318  [0.958553 -0.152569 1.75824, 0.945508 0.163044...\n",
        "351  [0.958639 -0.152483 1.7584, 0.945538 0.163107 ...\n",
        "385  [0.958754 -0.152495 1.75881, 0.945667 0.163019...\n",
        "417  [0.95884 -0.152376 1.75907, 0.945764 0.163064 ...\n",
        "451  [0.95892 -0.152272 1.75935, 0.945897 0.163253 ...\n",
        "484  [0.959079 -0.152045 1.7597, 0.946018 0.163436 ...\n",
        "518  [0.959204 -0.151983 1.76001, 0.94609 0.16356 1...\n",
        "552  [0.959443 -0.15182 1.7604, 0.945945 0.163811 1...\n",
        "585  [0.959574 -0.151726 1.7607, 0.946026 0.163902 ...\n",
        "618  [0.959853 -0.15165 1.76125, 0.946239 0.164002 ...\n",
        "652  [0.960079 -0.151612 1.76159, 0.946377 0.164147...\n",
        "684  [0.960255 -0.151455 1.7618, 0.946458 0.164266 ...\n",
        "717  [0.960455 -0.15139 1.76235, 0.946586 0.164278 ...\n",
        "751  [0.960685 -0.151299 1.76267, 0.946709 0.164334...\n",
        "784  [0.96077 -0.151272 1.76276, 0.946804 0.164323 ...\n",
        "817  [0.961199 -0.151221 1.7632, 0.947132 0.164374 ...\n",
        "851  [0.961467 -0.151137 1.76363, 0.947255 0.164508...\n",
        "884  [0.961747 -0.15096 1.76423, 0.94766 0.164767 1...\n",
        "917  [0.96206 -0.150904 1.76454, 0.94795 0.164934 1...\n",
        "951  [0.96233 -0.150754 1.76483, 0.948115 0.165109 ...\n",
        "984  [0.962696 -0.150661 1.76525, 0.948486 0.165374..."
       ]
      }
     ],
     "prompt_number": 3
    },
    {
     "cell_type": "code",
     "collapsed": false,
     "input": [
      "#print a specific value\n",
      "x = mystreamframe['JointPositions4'][984]\n",
      "print x"
     ],
     "language": "python",
     "metadata": {},
     "outputs": [
      {
       "output_type": "stream",
       "stream": "stdout",
       "text": [
        "[-0.365828 -0.748412 0.920436, -0.369162 -0.484824 0.840081, -0.368622 -0.219277 0.743624, -0.431168 -0.0840901 0.74596, -0.460954 -0.203418 0.746415, -0.536243 -0.446039 0.79702, -0.392797 -0.30233 0.553855, -0.404106 -0.205538 0.639367, -0.280834 -0.299137 0.809516, -0.405373 -0.147385 0.548891, -0.441266 0.0828351 0.563569, -0.455148 0.158502 0.571112, -0.462402 -0.71796 0.918329, -0.384065 -1.01339 0.998303, -0.429193 -0.605885 0.786384, -0.324172 -0.56888 0.811714, -0.249249 -0.735671 0.869954, -0.0554025 -0.4619 1.00468, -0.307495 -0.476967 0.77663, -0.357563 -0.573694 0.686901, -0.369484 -0.285533 0.770414, -0.418141 -0.153545 0.620289, -0.414258 -0.180974 0.59362, -0.460152 0.192906 0.541056, -0.440446 0.153279 0.552278]\n"
       ]
      }
     ],
     "prompt_number": 4
    },
    {
     "cell_type": "code",
     "collapsed": false,
     "input": [
      "#print this value's type, these types are explained below\n",
      "print type(x)"
     ],
     "language": "python",
     "metadata": {},
     "outputs": [
      {
       "output_type": "stream",
       "stream": "stdout",
       "text": [
        "<class 'mumodo.InstantIO.MFVec3f'>\n"
       ]
      }
     ],
     "prompt_number": 5
    },
    {
     "cell_type": "heading",
     "level": 3,
     "metadata": {},
     "source": [
      "The IntervalFrame"
     ]
    },
    {
     "cell_type": "code",
     "collapsed": false,
     "input": [
      "myintervalframe = open_intervalframe_from_textgrid(\"sampledata/test.TextGrid\")['S']"
     ],
     "language": "python",
     "metadata": {},
     "outputs": [],
     "prompt_number": 6
    },
    {
     "cell_type": "markdown",
     "metadata": {},
     "source": [
      "An IntervalFrame is a *Pandas* DataFrame object (See Pandas Documentation), that satisfies the following conditions\n",
      "\n",
      "* There are three columns, named 'start_time', 'end_time', and 'text', and are in that order\n",
      "* The time columns typically are float numbers representing *seconds*\n",
      "* The text column is typically of type string, although this is not required\n",
      "\n",
      "So, in essence, IntervalFrames are *annotation tiers* commonly found in audio, video and other analysis software (e.g. Praat, ELAN)\n",
      "\n",
      "The advantages of Pandas also apply to this category of objects, e.g."
     ]
    },
    {
     "cell_type": "code",
     "collapsed": false,
     "input": [
      "myintervalframe"
     ],
     "language": "python",
     "metadata": {},
     "outputs": [
      {
       "html": [
        "<div style=\"max-height:1000px;max-width:1500px;overflow:auto;\">\n",
        "<table border=\"1\" class=\"dataframe\">\n",
        "  <thead>\n",
        "    <tr style=\"text-align: right;\">\n",
        "      <th></th>\n",
        "      <th>start_time</th>\n",
        "      <th>end_time</th>\n",
        "      <th>text</th>\n",
        "    </tr>\n",
        "  </thead>\n",
        "  <tbody>\n",
        "    <tr>\n",
        "      <th>0 </th>\n",
        "      <td>  1.30</td>\n",
        "      <td>  1.860000</td>\n",
        "      <td>                                             Hello</td>\n",
        "    </tr>\n",
        "    <tr>\n",
        "      <th>1 </th>\n",
        "      <td>  2.88</td>\n",
        "      <td>  3.500000</td>\n",
        "      <td>                                       I 'm Spyros</td>\n",
        "    </tr>\n",
        "    <tr>\n",
        "      <th>2 </th>\n",
        "      <td>  4.86</td>\n",
        "      <td>  8.280000</td>\n",
        "      <td> Here in the Dialogue Systems Group, in the Uni...</td>\n",
        "    </tr>\n",
        "    <tr>\n",
        "      <th>3 </th>\n",
        "      <td>  8.50</td>\n",
        "      <td> 10.400000</td>\n",
        "      <td>              We have developed Mumodo, and Venice</td>\n",
        "    </tr>\n",
        "    <tr>\n",
        "      <th>4 </th>\n",
        "      <td> 11.58</td>\n",
        "      <td> 11.840000</td>\n",
        "      <td>                                            &lt;CLAP&gt;</td>\n",
        "    </tr>\n",
        "    <tr>\n",
        "      <th>5 </th>\n",
        "      <td> 14.10</td>\n",
        "      <td> 17.220000</td>\n",
        "      <td> Well, right now we are being recorded by a cam...</td>\n",
        "    </tr>\n",
        "    <tr>\n",
        "      <th>6 </th>\n",
        "      <td> 17.54</td>\n",
        "      <td> 18.840314</td>\n",
        "      <td>                     and a Microsoft Kinect sensor</td>\n",
        "    </tr>\n",
        "    <tr>\n",
        "      <th>7 </th>\n",
        "      <td> 19.30</td>\n",
        "      <td> 21.100000</td>\n",
        "      <td>         But how will we get the data from Kinect?</td>\n",
        "    </tr>\n",
        "    <tr>\n",
        "      <th>8 </th>\n",
        "      <td> 27.70</td>\n",
        "      <td> 31.480000</td>\n",
        "      <td> We are using this timecode to synchronize the ...</td>\n",
        "    </tr>\n",
        "    <tr>\n",
        "      <th>9 </th>\n",
        "      <td> 31.62</td>\n",
        "      <td> 32.860000</td>\n",
        "      <td>                          With the audio and video</td>\n",
        "    </tr>\n",
        "    <tr>\n",
        "      <th>10</th>\n",
        "      <td> 33.76</td>\n",
        "      <td> 34.000000</td>\n",
        "      <td>                                            &lt;CLAP&gt;</td>\n",
        "    </tr>\n",
        "    <tr>\n",
        "      <th>11</th>\n",
        "      <td> 37.40</td>\n",
        "      <td> 41.300000</td>\n",
        "      <td> We can process the data that comes from Venice...</td>\n",
        "    </tr>\n",
        "    <tr>\n",
        "      <th>12</th>\n",
        "      <td> 47.60</td>\n",
        "      <td> 47.820000</td>\n",
        "      <td>                                            &lt;CLAP&gt;</td>\n",
        "    </tr>\n",
        "    <tr>\n",
        "      <th>13</th>\n",
        "      <td> 48.94</td>\n",
        "      <td> 49.660000</td>\n",
        "      <td>                                           Goodbye</td>\n",
        "    </tr>\n",
        "  </tbody>\n",
        "</table>\n",
        "</div>"
       ],
       "metadata": {},
       "output_type": "pyout",
       "prompt_number": 7,
       "text": [
        "    start_time   end_time                                               text\n",
        "0         1.30   1.860000                                              Hello\n",
        "1         2.88   3.500000                                        I 'm Spyros\n",
        "2         4.86   8.280000  Here in the Dialogue Systems Group, in the Uni...\n",
        "3         8.50  10.400000               We have developed Mumodo, and Venice\n",
        "4        11.58  11.840000                                             <CLAP>\n",
        "5        14.10  17.220000  Well, right now we are being recorded by a cam...\n",
        "6        17.54  18.840314                      and a Microsoft Kinect sensor\n",
        "7        19.30  21.100000          But how will we get the data from Kinect?\n",
        "8        27.70  31.480000  We are using this timecode to synchronize the ...\n",
        "9        31.62  32.860000                           With the audio and video\n",
        "10       33.76  34.000000                                             <CLAP>\n",
        "11       37.40  41.300000  We can process the data that comes from Venice...\n",
        "12       47.60  47.820000                                             <CLAP>\n",
        "13       48.94  49.660000                                            Goodbye"
       ]
      }
     ],
     "prompt_number": 7
    },
    {
     "cell_type": "heading",
     "level": 3,
     "metadata": {},
     "source": [
      "The PointFrame"
     ]
    },
    {
     "cell_type": "code",
     "collapsed": false,
     "input": [
      "mypointframe = open_intervalframe_from_textgrid(\"sampledata/test.TextGrid\")['CLAPS']"
     ],
     "language": "python",
     "metadata": {},
     "outputs": [],
     "prompt_number": 8
    },
    {
     "cell_type": "markdown",
     "metadata": {},
     "source": [
      "A PointFrame is a *Pandas* DataFrame object (See Pandas Documentation), that satisfies the following conditions\n",
      "\n",
      "* There are two columns, named 'time', and 'mark', and are in that order\n",
      "* The time column typically has float numbers representing *seconds*\n",
      "* The mark column is typically of type string, although this is not required\n",
      "\n",
      "PointFrames are very similar to StreamFrames, but sometimes they need to be imported directly from Praat Textgrids (Praat Point Tiers) and are thus more like annotations without duration, rather than raw tracking data.\n",
      "\n",
      "The advantages of Pandas also apply to this category of objects, e.g."
     ]
    },
    {
     "cell_type": "code",
     "collapsed": false,
     "input": [
      "mypointframe"
     ],
     "language": "python",
     "metadata": {},
     "outputs": [
      {
       "html": [
        "<div style=\"max-height:1000px;max-width:1500px;overflow:auto;\">\n",
        "<table border=\"1\" class=\"dataframe\">\n",
        "  <thead>\n",
        "    <tr style=\"text-align: right;\">\n",
        "      <th></th>\n",
        "      <th>time</th>\n",
        "      <th>mark</th>\n",
        "    </tr>\n",
        "  </thead>\n",
        "  <tbody>\n",
        "    <tr>\n",
        "      <th>0</th>\n",
        "      <td> 11.654230</td>\n",
        "      <td>  First Clap</td>\n",
        "    </tr>\n",
        "    <tr>\n",
        "      <th>1</th>\n",
        "      <td> 33.824485</td>\n",
        "      <td> Second Clap</td>\n",
        "    </tr>\n",
        "    <tr>\n",
        "      <th>2</th>\n",
        "      <td> 47.672685</td>\n",
        "      <td>  Third Clap</td>\n",
        "    </tr>\n",
        "  </tbody>\n",
        "</table>\n",
        "</div>"
       ],
       "metadata": {},
       "output_type": "pyout",
       "prompt_number": 9,
       "text": [
        "        time         mark\n",
        "0  11.654230   First Clap\n",
        "1  33.824485  Second Clap\n",
        "2  47.672685   Third Clap"
       ]
      }
     ],
     "prompt_number": 9
    },
    {
     "cell_type": "markdown",
     "metadata": {},
     "source": [
      "It is possible to convert the point_tier to a streamframe (the units are not converted) using a specially designed function"
     ]
    },
    {
     "cell_type": "code",
     "collapsed": false,
     "input": [
      "#first convert the units to ms\n",
      "convert_times_of_tier(mypointframe, lambda x: int(1000 * x))\n",
      "#next, convert to a streamframe\n",
      "mynewstreamframe = convert_pointtier_to_streamframe(mypointframe)\n",
      "mynewstreamframe"
     ],
     "language": "python",
     "metadata": {},
     "outputs": [
      {
       "html": [
        "<div style=\"max-height:1000px;max-width:1500px;overflow:auto;\">\n",
        "<table border=\"1\" class=\"dataframe\">\n",
        "  <thead>\n",
        "    <tr style=\"text-align: right;\">\n",
        "      <th></th>\n",
        "      <th>mark</th>\n",
        "    </tr>\n",
        "  </thead>\n",
        "  <tbody>\n",
        "    <tr>\n",
        "      <th>11654</th>\n",
        "      <td>  First Clap</td>\n",
        "    </tr>\n",
        "    <tr>\n",
        "      <th>33824</th>\n",
        "      <td> Second Clap</td>\n",
        "    </tr>\n",
        "    <tr>\n",
        "      <th>47672</th>\n",
        "      <td>  Third Clap</td>\n",
        "    </tr>\n",
        "  </tbody>\n",
        "</table>\n",
        "</div>"
       ],
       "metadata": {},
       "output_type": "pyout",
       "prompt_number": 10,
       "text": [
        "              mark\n",
        "11654   First Clap\n",
        "33824  Second Clap\n",
        "47672   Third Clap"
       ]
      }
     ],
     "prompt_number": 10
    },
    {
     "cell_type": "heading",
     "level": 3,
     "metadata": {},
     "source": [
      "The InstantIO Types"
     ]
    },
    {
     "cell_type": "markdown",
     "metadata": {},
     "source": [
      "Multimodal data typically consists of audio, video and other sensors, such as motion capture, eye tracking, etc. \n",
      "\n",
      "In order to deal with this complex data, mumodo supports a number of types inspired by the InstantIO framework for Virtual Reality (www.instantreality.org). The following types are supported\n",
      "\n",
      "* SFFloat, SFInt32, SFString, SFBool - Primitive types for float, int, string and boolean values, respectively\n",
      "* SFVec2f, SFVec3f, SFRotation - Geometry types for 2D or 3D vectors of floats, as well as *quaternions* representing rotations\n",
      "* MFVec3f, MFFloat, MFRotation, ... - Multi-Field versions of the types mentioned above\n",
      "\n",
      "So let's have a look at the value **x** that we got from our table above ..."
     ]
    },
    {
     "cell_type": "code",
     "collapsed": false,
     "input": [
      "type(x)"
     ],
     "language": "python",
     "metadata": {},
     "outputs": [
      {
       "metadata": {},
       "output_type": "pyout",
       "prompt_number": 11,
       "text": [
        "mumodo.InstantIO.MFVec3f"
       ]
      }
     ],
     "prompt_number": 11
    },
    {
     "cell_type": "markdown",
     "metadata": {},
     "source": [
      "It is a multi-field SFVec3f. Is that really so?"
     ]
    },
    {
     "cell_type": "code",
     "collapsed": false,
     "input": [
      "type(x[0])"
     ],
     "language": "python",
     "metadata": {},
     "outputs": [
      {
       "metadata": {},
       "output_type": "pyout",
       "prompt_number": 12,
       "text": [
        "mumodo.InstantIO.SFVec3f"
       ]
      }
     ],
     "prompt_number": 12
    },
    {
     "cell_type": "markdown",
     "metadata": {},
     "source": [
      "Indeed! MF types also have length and are iterable"
     ]
    },
    {
     "cell_type": "code",
     "collapsed": false,
     "input": [
      "for y in x:\n",
      "    print y"
     ],
     "language": "python",
     "metadata": {},
     "outputs": [
      {
       "output_type": "stream",
       "stream": "stdout",
       "text": [
        "-0.365828 -0.748412 0.920436\n",
        "-0.369162 -0.484824 0.840081\n",
        "-0.368622 -0.219277 0.743624\n",
        "-0.431168 -0.0840901 0.74596\n",
        "-0.460954 -0.203418 0.746415\n",
        "-0.536243 -0.446039 0.79702\n",
        "-0.392797 -0.30233 0.553855\n",
        "-0.404106 -0.205538 0.639367\n",
        "-0.280834 -0.299137 0.809516\n",
        "-0.405373 -0.147385 0.548891\n",
        "-0.441266 0.0828351 0.563569\n",
        "-0.455148 0.158502 0.571112\n",
        "-0.462402 -0.71796 0.918329\n",
        "-0.384065 -1.01339 0.998303\n",
        "-0.429193 -0.605885 0.786384\n",
        "-0.324172 -0.56888 0.811714\n",
        "-0.249249 -0.735671 0.869954\n",
        "-0.0554025 -0.4619 1.00468\n",
        "-0.307495 -0.476967 0.77663\n",
        "-0.357563 -0.573694 0.686901\n",
        "-0.369484 -0.285533 0.770414\n",
        "-0.418141 -0.153545 0.620289\n",
        "-0.414258 -0.180974 0.59362\n",
        "-0.460152 0.192906 0.541056\n",
        "-0.440446 0.153279 0.552278\n"
       ]
      }
     ],
     "prompt_number": 13
    },
    {
     "cell_type": "code",
     "collapsed": false,
     "input": [
      "len(x)"
     ],
     "language": "python",
     "metadata": {},
     "outputs": [
      {
       "metadata": {},
       "output_type": "pyout",
       "prompt_number": 14,
       "text": [
        "25"
       ]
      }
     ],
     "prompt_number": 14
    },
    {
     "cell_type": "markdown",
     "metadata": {},
     "source": [
      "The basic (SF) types have some useful atttibutes, e.g."
     ]
    },
    {
     "cell_type": "code",
     "collapsed": false,
     "input": [
      "my3Dvector = x[0]\n",
      "print type(my3Dvector)\n",
      "print my3Dvector.x, my3Dvector.y, my3Dvector.z #per axis x, y, z access\n",
      "print my3Dvector.v #get it as list\n",
      "print list(my3Dvector) #iterate\n",
      "print my3Dvector[2] #array-like access for elements"
     ],
     "language": "python",
     "metadata": {},
     "outputs": [
      {
       "output_type": "stream",
       "stream": "stdout",
       "text": [
        "<class 'mumodo.InstantIO.SFVec3f'>\n",
        "-0.365828 -0.748412 0.920436\n",
        "[-0.365828, -0.748412, 0.920436]\n",
        "[-0.365828, -0.748412, 0.920436]\n",
        "0.920436\n"
       ]
      }
     ],
     "prompt_number": 15
    },
    {
     "cell_type": "markdown",
     "metadata": {},
     "source": [
      "the *rotations* have similarly useful functions, e.g."
     ]
    },
    {
     "cell_type": "code",
     "collapsed": false,
     "input": [
      "myrotation = SFRotation(0, 0.5, 0, 0.5)\n",
      "print myrotation.qx, myrotation.qy, myrotation.qz, myrotation.qw #components of the quaternion\n",
      "print myrotation.v #get is as a list\n",
      "print list(myrotation) #iterate\n",
      "print myrotation[3] #array-like access for elements\n",
      "print myrotation.attitude, myrotation.bank, myrotation.heading #get as Euler angles in radians"
     ],
     "language": "python",
     "metadata": {},
     "outputs": [
      {
       "output_type": "stream",
       "stream": "stdout",
       "text": [
        "0.0 0.5 0.0 0.5\n",
        "[0.0, 0.5, 0.0, 0.5]\n",
        "[0.0, 0.5, 0.0, 0.5]\n",
        "0.5\n",
        "0.0 0.0 1.57079632679\n"
       ]
      }
     ],
     "prompt_number": 16
    },
    {
     "cell_type": "markdown",
     "metadata": {},
     "source": [
      "Strings are parsed into boolean by the sfbool function, with a different behaviour from the built-in *bool*: the string True is case-insensitive parsed into True, and any other string is False"
     ]
    },
    {
     "cell_type": "code",
     "collapsed": false,
     "input": [
      "sfbool(\"False\"), sfbool(\"anything\"), sfbool(\"tRue\")"
     ],
     "language": "python",
     "metadata": {},
     "outputs": [
      {
       "metadata": {},
       "output_type": "pyout",
       "prompt_number": 17,
       "text": [
        "(False, False, True)"
       ]
      }
     ],
     "prompt_number": 17
    },
    {
     "cell_type": "code",
     "collapsed": false,
     "input": [
      "bool(\"False\"), bool(\"anything\"), bool(\"tRue\")"
     ],
     "language": "python",
     "metadata": {},
     "outputs": [
      {
       "metadata": {},
       "output_type": "pyout",
       "prompt_number": 18,
       "text": [
        "(True, True, True)"
       ]
      }
     ],
     "prompt_number": 18
    },
    {
     "cell_type": "heading",
     "level": 3,
     "metadata": {},
     "source": [
      "Converting into the basic types"
     ]
    },
    {
     "cell_type": "markdown",
     "metadata": {},
     "source": [
      "What if your own data is not using these types? \n",
      "\n",
      "Let's say your 3D data looks like below. This is typical if you import your data from CSV files or directly from Excel files, Pandas has functions for that."
     ]
    },
    {
     "cell_type": "code",
     "collapsed": false,
     "input": [
      "mydata = pd.DataFrame([{'2dpositions': [2, 4], 'time': 0},\n",
      "                       {'2dpositions': [2, 3], 'time': 10},\n",
      "                       {'2dpositions': [3, 3], 'time': 20},\n",
      "                       {'2dpositions': [7, 4], 'time': 30},\n",
      "                       {'2dpositions': [1, 2], 'time': 40},\n",
      "                       {'2dpositions': [0, 4], 'time': 50}])\n",
      "mydata"
     ],
     "language": "python",
     "metadata": {},
     "outputs": [
      {
       "html": [
        "<div style=\"max-height:1000px;max-width:1500px;overflow:auto;\">\n",
        "<table border=\"1\" class=\"dataframe\">\n",
        "  <thead>\n",
        "    <tr style=\"text-align: right;\">\n",
        "      <th></th>\n",
        "      <th>2dpositions</th>\n",
        "      <th>time</th>\n",
        "    </tr>\n",
        "  </thead>\n",
        "  <tbody>\n",
        "    <tr>\n",
        "      <th>0</th>\n",
        "      <td> [2, 4]</td>\n",
        "      <td>  0</td>\n",
        "    </tr>\n",
        "    <tr>\n",
        "      <th>1</th>\n",
        "      <td> [2, 3]</td>\n",
        "      <td> 10</td>\n",
        "    </tr>\n",
        "    <tr>\n",
        "      <th>2</th>\n",
        "      <td> [3, 3]</td>\n",
        "      <td> 20</td>\n",
        "    </tr>\n",
        "    <tr>\n",
        "      <th>3</th>\n",
        "      <td> [7, 4]</td>\n",
        "      <td> 30</td>\n",
        "    </tr>\n",
        "    <tr>\n",
        "      <th>4</th>\n",
        "      <td> [1, 2]</td>\n",
        "      <td> 40</td>\n",
        "    </tr>\n",
        "    <tr>\n",
        "      <th>5</th>\n",
        "      <td> [0, 4]</td>\n",
        "      <td> 50</td>\n",
        "    </tr>\n",
        "  </tbody>\n",
        "</table>\n",
        "</div>"
       ],
       "metadata": {},
       "output_type": "pyout",
       "prompt_number": 19,
       "text": [
        "  2dpositions  time\n",
        "0      [2, 4]     0\n",
        "1      [2, 3]    10\n",
        "2      [3, 3]    20\n",
        "3      [7, 4]    30\n",
        "4      [1, 2]    40\n",
        "5      [0, 4]    50"
       ]
      }
     ],
     "prompt_number": 19
    },
    {
     "cell_type": "markdown",
     "metadata": {},
     "source": [
      "First we need to make this look like a streamframe, so we have to make the time into the index (and optionally delete the time column)"
     ]
    },
    {
     "cell_type": "code",
     "collapsed": false,
     "input": [
      "mydata.index = mydata.time #alternative syntax to mydata['time']\n",
      "mydata.index.name = None #we do not need a named index\n",
      "del mydata['time']\n",
      "mydata"
     ],
     "language": "python",
     "metadata": {},
     "outputs": [
      {
       "html": [
        "<div style=\"max-height:1000px;max-width:1500px;overflow:auto;\">\n",
        "<table border=\"1\" class=\"dataframe\">\n",
        "  <thead>\n",
        "    <tr style=\"text-align: right;\">\n",
        "      <th></th>\n",
        "      <th>2dpositions</th>\n",
        "    </tr>\n",
        "  </thead>\n",
        "  <tbody>\n",
        "    <tr>\n",
        "      <th>0 </th>\n",
        "      <td> [2, 4]</td>\n",
        "    </tr>\n",
        "    <tr>\n",
        "      <th>10</th>\n",
        "      <td> [2, 3]</td>\n",
        "    </tr>\n",
        "    <tr>\n",
        "      <th>20</th>\n",
        "      <td> [3, 3]</td>\n",
        "    </tr>\n",
        "    <tr>\n",
        "      <th>30</th>\n",
        "      <td> [7, 4]</td>\n",
        "    </tr>\n",
        "    <tr>\n",
        "      <th>40</th>\n",
        "      <td> [1, 2]</td>\n",
        "    </tr>\n",
        "    <tr>\n",
        "      <th>50</th>\n",
        "      <td> [0, 4]</td>\n",
        "    </tr>\n",
        "  </tbody>\n",
        "</table>\n",
        "</div>"
       ],
       "metadata": {},
       "output_type": "pyout",
       "prompt_number": 20,
       "text": [
        "   2dpositions\n",
        "0       [2, 4]\n",
        "10      [2, 3]\n",
        "20      [3, 3]\n",
        "30      [7, 4]\n",
        "40      [1, 2]\n",
        "50      [0, 4]"
       ]
      }
     ],
     "prompt_number": 20
    },
    {
     "cell_type": "markdown",
     "metadata": {},
     "source": [
      "Now we want to perhaps change the type of our 2d positions into SFVec2f."
     ]
    },
    {
     "cell_type": "code",
     "collapsed": false,
     "input": [
      "mydata['2dpositions'] = mydata['2dpositions'].map(lambda x: SFVec2f(x[0], x[1]))\n",
      "mydata"
     ],
     "language": "python",
     "metadata": {},
     "outputs": [
      {
       "html": [
        "<div style=\"max-height:1000px;max-width:1500px;overflow:auto;\">\n",
        "<table border=\"1\" class=\"dataframe\">\n",
        "  <thead>\n",
        "    <tr style=\"text-align: right;\">\n",
        "      <th></th>\n",
        "      <th>2dpositions</th>\n",
        "    </tr>\n",
        "  </thead>\n",
        "  <tbody>\n",
        "    <tr>\n",
        "      <th>0 </th>\n",
        "      <td> 2.0 4.0</td>\n",
        "    </tr>\n",
        "    <tr>\n",
        "      <th>10</th>\n",
        "      <td> 2.0 3.0</td>\n",
        "    </tr>\n",
        "    <tr>\n",
        "      <th>20</th>\n",
        "      <td> 3.0 3.0</td>\n",
        "    </tr>\n",
        "    <tr>\n",
        "      <th>30</th>\n",
        "      <td> 7.0 4.0</td>\n",
        "    </tr>\n",
        "    <tr>\n",
        "      <th>40</th>\n",
        "      <td> 1.0 2.0</td>\n",
        "    </tr>\n",
        "    <tr>\n",
        "      <th>50</th>\n",
        "      <td> 0.0 4.0</td>\n",
        "    </tr>\n",
        "  </tbody>\n",
        "</table>\n",
        "</div>"
       ],
       "metadata": {},
       "output_type": "pyout",
       "prompt_number": 21,
       "text": [
        "   2dpositions\n",
        "0      2.0 4.0\n",
        "10     2.0 3.0\n",
        "20     3.0 3.0\n",
        "30     7.0 4.0\n",
        "40     1.0 2.0\n",
        "50     0.0 4.0"
       ]
      }
     ],
     "prompt_number": 21
    },
    {
     "cell_type": "markdown",
     "metadata": {},
     "source": [
      "And thus we have converted our data into the basic mumodo types. This will be very useful for our subsequent analysis\n",
      "\n",
      "In order to see how to use IntervalFrames, StreamFrames and InstantIO types for analysis, check the other demo notebooks"
     ]
    }
   ],
   "metadata": {}
  }
 ]
}