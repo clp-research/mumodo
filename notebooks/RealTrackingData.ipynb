{
 "metadata": {
  "name": "",
  "signature": "sha256:4292f68a5a8df4fb1659862594b7d3f2cc834fc59082c2c11db4bce64a1fab2f"
 },
 "nbformat": 3,
 "nbformat_minor": 0,
 "worksheets": [
  {
   "cells": [
    {
     "cell_type": "heading",
     "level": 1,
     "metadata": {},
     "source": [
      "Working with Real Tracking Data"
     ]
    },
    {
     "cell_type": "markdown",
     "metadata": {},
     "source": [
      "** Mumodo Demo Notebook ** - Updated on 24.04.2015\n",
      "\n",
      "** Summary: ** This notebook showcases working with real tracking data. In particular, data from a Kinect V2 sensor is imported and analyzed\n",
      "\n",
      "**(c) Dialogue Systems Group, University of Bielefeld**"
     ]
    },
    {
     "cell_type": "code",
     "collapsed": false,
     "input": [
      "%matplotlib inline\n",
      "import math\n",
      "import matplotlib.pyplot as plt\n",
      "from mumodo.mumodoIO import open_streamframe_from_xiofile, open_intervalframe_from_textgrid\n",
      "from mumodo.plotting import plot_scalar, plot_annotations\n",
      "from mumodo.analysis import create_intervalframe_from_streamframe, convert_times_of_tier"
     ],
     "language": "python",
     "metadata": {},
     "outputs": [],
     "prompt_number": 1
    },
    {
     "cell_type": "markdown",
     "metadata": {},
     "source": [
      "We are going to import data recorded with a Microsoft Kinect V2 for Windows sensor from an XIO file"
     ]
    },
    {
     "cell_type": "code",
     "collapsed": false,
     "input": [
      "KinectData = open_streamframe_from_xiofile(\"sampledata/test.xio.gz\", 'VeniceHubReplay/Venice/Body1')"
     ],
     "language": "python",
     "metadata": {},
     "outputs": [
      {
       "output_type": "stream",
       "stream": "stdout",
       "text": [
        "opening compressed file ...\n",
        "opening file without indexing\n"
       ]
      }
     ],
     "prompt_number": 2
    },
    {
     "cell_type": "code",
     "collapsed": false,
     "input": [
      "KinectData[:2]"
     ],
     "language": "python",
     "metadata": {},
     "outputs": [
      {
       "html": [
        "<div style=\"max-height:1000px;max-width:1500px;overflow:auto;\">\n",
        "<table border=\"1\" class=\"dataframe\">\n",
        "  <thead>\n",
        "    <tr style=\"text-align: right;\">\n",
        "      <th></th>\n",
        "      <th>JointPositions1</th>\n",
        "      <th>JointPositions2</th>\n",
        "      <th>JointPositions3</th>\n",
        "      <th>JointPositions4</th>\n",
        "      <th>JointPositions5</th>\n",
        "      <th>JointPositions6</th>\n",
        "      <th>time</th>\n",
        "    </tr>\n",
        "  </thead>\n",
        "  <tbody>\n",
        "    <tr>\n",
        "      <th>0 </th>\n",
        "      <td> []</td>\n",
        "      <td> []</td>\n",
        "      <td> [0.957876 -0.152858 1.7562, 0.945315 0.162776 ...</td>\n",
        "      <td> [-0.345256 -0.750549 0.922279, -0.359958 -0.48...</td>\n",
        "      <td> []</td>\n",
        "      <td> []</td>\n",
        "      <td> 1429192624579</td>\n",
        "    </tr>\n",
        "    <tr>\n",
        "      <th>18</th>\n",
        "      <td> []</td>\n",
        "      <td> []</td>\n",
        "      <td> [0.957869 -0.152829 1.75661, 0.945076 0.162929...</td>\n",
        "      <td> [-0.345244 -0.750662 0.922202, -0.359946 -0.48...</td>\n",
        "      <td> []</td>\n",
        "      <td> []</td>\n",
        "      <td> 1429192624597</td>\n",
        "    </tr>\n",
        "  </tbody>\n",
        "</table>\n",
        "</div>"
       ],
       "metadata": {},
       "output_type": "pyout",
       "prompt_number": 3,
       "text": [
        "   JointPositions1 JointPositions2  \\\n",
        "0               []              []   \n",
        "18              []              []   \n",
        "\n",
        "                                      JointPositions3  \\\n",
        "0   [0.957876 -0.152858 1.7562, 0.945315 0.162776 ...   \n",
        "18  [0.957869 -0.152829 1.75661, 0.945076 0.162929...   \n",
        "\n",
        "                                      JointPositions4 JointPositions5  \\\n",
        "0   [-0.345256 -0.750549 0.922279, -0.359958 -0.48...              []   \n",
        "18  [-0.345244 -0.750662 0.922202, -0.359946 -0.48...              []   \n",
        "\n",
        "   JointPositions6           time  \n",
        "0               []  1429192624579  \n",
        "18              []  1429192624597  "
       ]
      }
     ],
     "prompt_number": 3
    },
    {
     "cell_type": "markdown",
     "metadata": {},
     "source": [
      "The sensor can record data for up to 6 bodies, but it has recorded data from two only. So why not keep only those two?"
     ]
    },
    {
     "cell_type": "code",
     "collapsed": false,
     "input": [
      "skeletons = KinectData.ix[:, ['JointPositions3', 'JointPositions4']]\n",
      "skeletons[:2]"
     ],
     "language": "python",
     "metadata": {},
     "outputs": [
      {
       "html": [
        "<div style=\"max-height:1000px;max-width:1500px;overflow:auto;\">\n",
        "<table border=\"1\" class=\"dataframe\">\n",
        "  <thead>\n",
        "    <tr style=\"text-align: right;\">\n",
        "      <th></th>\n",
        "      <th>JointPositions3</th>\n",
        "      <th>JointPositions4</th>\n",
        "    </tr>\n",
        "  </thead>\n",
        "  <tbody>\n",
        "    <tr>\n",
        "      <th>0 </th>\n",
        "      <td> [0.957876 -0.152858 1.7562, 0.945315 0.162776 ...</td>\n",
        "      <td> [-0.345256 -0.750549 0.922279, -0.359958 -0.48...</td>\n",
        "    </tr>\n",
        "    <tr>\n",
        "      <th>18</th>\n",
        "      <td> [0.957869 -0.152829 1.75661, 0.945076 0.162929...</td>\n",
        "      <td> [-0.345244 -0.750662 0.922202, -0.359946 -0.48...</td>\n",
        "    </tr>\n",
        "  </tbody>\n",
        "</table>\n",
        "</div>"
       ],
       "metadata": {},
       "output_type": "pyout",
       "prompt_number": 4,
       "text": [
        "                                      JointPositions3  \\\n",
        "0   [0.957876 -0.152858 1.7562, 0.945315 0.162776 ...   \n",
        "18  [0.957869 -0.152829 1.75661, 0.945076 0.162929...   \n",
        "\n",
        "                                      JointPositions4  \n",
        "0   [-0.345256 -0.750549 0.922279, -0.359958 -0.48...  \n",
        "18  [-0.345244 -0.750662 0.922202, -0.359946 -0.48...  "
       ]
      }
     ],
     "prompt_number": 4
    },
    {
     "cell_type": "markdown",
     "metadata": {},
     "source": [
      "Commonly we need to look for (and drop) not-a-numbers:"
     ]
    },
    {
     "cell_type": "code",
     "collapsed": false,
     "input": [
      "print len(skeletons), len(skeletons.dropna())\n",
      "skeletons.dropna(inplace=True)"
     ],
     "language": "python",
     "metadata": {},
     "outputs": [
      {
       "output_type": "stream",
       "stream": "stdout",
       "text": [
        "2016 2015\n"
       ]
      }
     ],
     "prompt_number": 5
    },
    {
     "cell_type": "markdown",
     "metadata": {},
     "source": [
      "Each cell in the table has a snapshot of the whole skeleton (25 joints) at that moment in time."
     ]
    },
    {
     "cell_type": "code",
     "collapsed": false,
     "input": [
      "set(skeletons['JointPositions3'].map(lambda x: len(x))), set(skeletons['JointPositions4'].map(lambda x: len(x)))"
     ],
     "language": "python",
     "metadata": {},
     "outputs": [
      {
       "metadata": {},
       "output_type": "pyout",
       "prompt_number": 6,
       "text": [
        "({25}, {25})"
       ]
      }
     ],
     "prompt_number": 6
    },
    {
     "cell_type": "markdown",
     "metadata": {},
     "source": [
      " We can decode the cells of each table into individual joints using the following input from the sensor's documentation\n",
      " \n",
      " From http://msdn.microsoft.com/en-us/library/microsoft.kinect.kinect.jointtype.aspx\n",
      "    \n",
      "    typedef enum _JointType\n",
      "    {\n",
      "        JointType_SpineBase = 0,\n",
      "        JointType_SpineMid = 1,\n",
      "        JointType_Neck = 2,\n",
      "        JointType_Head = 3,\n",
      "        JointType_ShoulderLeft = 4,\n",
      "        JointType_ElbowLeft = 5,\n",
      "        JointType_WristLeft = 6,\n",
      "        JointType_HandLeft = 7,\n",
      "        JointType_ShoulderRight = 8,\n",
      "        JointType_ElbowRight = 9,\n",
      "        JointType_WristRight = 10,\n",
      "        JointType_HandRight = 11,\n",
      "        JointType_HipLeft = 12,\n",
      "        JointType_KneeLeft = 13,\n",
      "        JointType_AnkleLeft = 14,\n",
      "        JointType_FootLeft = 15,\n",
      "        JointType_HipRight = 16,\n",
      "        JointType_KneeRight = 17,\n",
      "        JointType_AnkleRight = 18,\n",
      "        JointType_FootRight = 19,\n",
      "        JointType_SpineShoulder = 20,\n",
      "        JointType_HandTipLeft = 21,\n",
      "        JointType_ThumbLeft = 22,\n",
      "        JointType_HandTipRight = 23,\n",
      "        JointType_ThumbRight = 24,\n",
      "        JointType_Count = (JointType_ThumbRight+1)\n",
      "    }"
     ]
    },
    {
     "cell_type": "code",
     "collapsed": false,
     "input": [
      "#Create new columns for some of the joints we are interested in|\n",
      "skeletons['HandRight3'] = skeletons['JointPositions3'].map(lambda x: x[11])\n",
      "skeletons['HandRight4'] = skeletons['JointPositions4'].map(lambda x: x[11])"
     ],
     "language": "python",
     "metadata": {},
     "outputs": [],
     "prompt_number": 7
    },
    {
     "cell_type": "heading",
     "level": 3,
     "metadata": {},
     "source": [
      "Example Analysis"
     ]
    },
    {
     "cell_type": "markdown",
     "metadata": {},
     "source": [
      "During the demo video included in sample data, the two people do a \"high-five\" clap 3 times, using their right hands. We would like to measure the distance between their hands during this joint gesture."
     ]
    },
    {
     "cell_type": "code",
     "collapsed": false,
     "input": [
      "clap_times = open_intervalframe_from_textgrid(\"sampledata/test.TextGrid\")['CLAPS']\n",
      "clap_times"
     ],
     "language": "python",
     "metadata": {},
     "outputs": [
      {
       "html": [
        "<div style=\"max-height:1000px;max-width:1500px;overflow:auto;\">\n",
        "<table border=\"1\" class=\"dataframe\">\n",
        "  <thead>\n",
        "    <tr style=\"text-align: right;\">\n",
        "      <th></th>\n",
        "      <th>time</th>\n",
        "      <th>mark</th>\n",
        "    </tr>\n",
        "  </thead>\n",
        "  <tbody>\n",
        "    <tr>\n",
        "      <th>0</th>\n",
        "      <td> 11.654230</td>\n",
        "      <td>  First Clap</td>\n",
        "    </tr>\n",
        "    <tr>\n",
        "      <th>1</th>\n",
        "      <td> 33.824485</td>\n",
        "      <td> Second Clap</td>\n",
        "    </tr>\n",
        "    <tr>\n",
        "      <th>2</th>\n",
        "      <td> 47.672685</td>\n",
        "      <td>  Third Clap</td>\n",
        "    </tr>\n",
        "  </tbody>\n",
        "</table>\n",
        "</div>"
       ],
       "metadata": {},
       "output_type": "pyout",
       "prompt_number": 8,
       "text": [
        "        time         mark\n",
        "0  11.654230   First Clap\n",
        "1  33.824485  Second Clap\n",
        "2  47.672685   Third Clap"
       ]
      }
     ],
     "prompt_number": 8
    },
    {
     "cell_type": "markdown",
     "metadata": {},
     "source": [
      "We want to see the distance before and after the clap instant, so let's turn this into an IntervalFrame instead: "
     ]
    },
    {
     "cell_type": "code",
     "collapsed": false,
     "input": [
      "context = 2 #duration before and after the clap\n",
      "clap_times['start_time'] = clap_times['time'] - context\n",
      "clap_times['end_time'] = clap_times['time'] + context\n",
      "del clap_times['time']\n",
      "clap_times['text'] = clap_times['mark']\n",
      "del clap_times['mark']\n",
      "clap_times = clap_times.ix[:, ['start_time', 'end_time', 'text']]\n",
      "clap_times"
     ],
     "language": "python",
     "metadata": {},
     "outputs": [
      {
       "html": [
        "<div style=\"max-height:1000px;max-width:1500px;overflow:auto;\">\n",
        "<table border=\"1\" class=\"dataframe\">\n",
        "  <thead>\n",
        "    <tr style=\"text-align: right;\">\n",
        "      <th></th>\n",
        "      <th>start_time</th>\n",
        "      <th>end_time</th>\n",
        "      <th>text</th>\n",
        "    </tr>\n",
        "  </thead>\n",
        "  <tbody>\n",
        "    <tr>\n",
        "      <th>0</th>\n",
        "      <td>  9.654230</td>\n",
        "      <td> 13.654230</td>\n",
        "      <td>  First Clap</td>\n",
        "    </tr>\n",
        "    <tr>\n",
        "      <th>1</th>\n",
        "      <td> 31.824485</td>\n",
        "      <td> 35.824485</td>\n",
        "      <td> Second Clap</td>\n",
        "    </tr>\n",
        "    <tr>\n",
        "      <th>2</th>\n",
        "      <td> 45.672685</td>\n",
        "      <td> 49.672685</td>\n",
        "      <td>  Third Clap</td>\n",
        "    </tr>\n",
        "  </tbody>\n",
        "</table>\n",
        "</div>"
       ],
       "metadata": {},
       "output_type": "pyout",
       "prompt_number": 9,
       "text": [
        "   start_time   end_time         text\n",
        "0    9.654230  13.654230   First Clap\n",
        "1   31.824485  35.824485  Second Clap\n",
        "2   45.672685  49.672685   Third Clap"
       ]
      }
     ],
     "prompt_number": 9
    },
    {
     "cell_type": "markdown",
     "metadata": {},
     "source": [
      "In addition, we need to *offset* the tracking data in order to synchronize it with these times. See the notebook \"ComputingOffset\" for more details"
     ]
    },
    {
     "cell_type": "code",
     "collapsed": false,
     "input": [
      "skeletons.index -= 9616"
     ],
     "language": "python",
     "metadata": {},
     "outputs": [],
     "prompt_number": 10
    },
    {
     "cell_type": "markdown",
     "metadata": {},
     "source": [
      "Next we define a function to copute distance (or we can use the one from scipy or numpy)"
     ]
    },
    {
     "cell_type": "code",
     "collapsed": false,
     "input": [
      "def euclidean_distance(a, b):\n",
      "    \"\"\" compute the euclidean distance between two SFVec3f \n",
      "    \n",
      "    \"\"\"\n",
      "    return math.sqrt( (a.x - b.x) ** 2 + (a.y - b.y) ** 2  + (a.z - b.z) ** 2)"
     ],
     "language": "python",
     "metadata": {},
     "outputs": [],
     "prompt_number": 11
    },
    {
     "cell_type": "code",
     "collapsed": false,
     "input": [
      "#create and populate the new column\n",
      "skeletons['HandDistance'] = skeletons['HandRight3']\n",
      "for i in skeletons.index:\n",
      "    skeletons['HandDistance'].ix[i] = euclidean_distance(skeletons['HandRight3'].ix[i], \n",
      "                                                         skeletons['HandRight4'].ix[i])"
     ],
     "language": "python",
     "metadata": {},
     "outputs": [],
     "prompt_number": 12
    },
    {
     "cell_type": "code",
     "collapsed": false,
     "input": [
      "plot_scalar(skeletons, ['HandDistance'])"
     ],
     "language": "python",
     "metadata": {},
     "outputs": [
      {
       "metadata": {},
       "output_type": "display_data",
       "png": "[encoded data removed]",
       "text": [
        "<matplotlib.figure.Figure at 0x10d0191d0>"
       ]
      }
     ],
     "prompt_number": 13
    },
    {
     "cell_type": "markdown",
     "metadata": {},
     "source": [
      "we can plot the data only around clap episodes"
     ]
    },
    {
     "cell_type": "code",
     "collapsed": false,
     "input": [
      "episode_no = 2 #this the index of the interval in the IntervalFrame with clap episodes\n",
      "start = int(1000 * clap_times['start_time'].ix[episode_no]) #convert start and end times to ms\n",
      "end = int(1000 * clap_times['end_time'].ix[episode_no]) \n",
      "plot_scalar(skeletons, ['HandDistance'], start, end)"
     ],
     "language": "python",
     "metadata": {},
     "outputs": [
      {
       "metadata": {},
       "output_type": "display_data",
       "png": "[encoded data removed]",
       "text": [
        "<matplotlib.figure.Figure at 0x10e73f650>"
       ]
      }
     ],
     "prompt_number": 14
    },
    {
     "cell_type": "markdown",
     "metadata": {},
     "source": [
      "Conversely, we can try to locate the claps by the distance measure, e.g."
     ]
    },
    {
     "cell_type": "code",
     "collapsed": false,
     "input": [
      "detected_claps = create_intervalframe_from_streamframe(skeletons, 'HandDistance', lambda x: x < 0.2, 40)\n",
      "convert_times_of_tier(detected_claps, lambda x: float(x) / 1000) #convert times to ms\n",
      "detected_claps"
     ],
     "language": "python",
     "metadata": {},
     "outputs": [
      {
       "html": [
        "<div style=\"max-height:1000px;max-width:1500px;overflow:auto;\">\n",
        "<table border=\"1\" class=\"dataframe\">\n",
        "  <thead>\n",
        "    <tr style=\"text-align: right;\">\n",
        "      <th></th>\n",
        "      <th>start_time</th>\n",
        "      <th>end_time</th>\n",
        "      <th>text</th>\n",
        "    </tr>\n",
        "  </thead>\n",
        "  <tbody>\n",
        "    <tr>\n",
        "      <th>0</th>\n",
        "      <td> 11.827</td>\n",
        "      <td> 11.891</td>\n",
        "      <td> True</td>\n",
        "    </tr>\n",
        "    <tr>\n",
        "      <th>1</th>\n",
        "      <td> 33.883</td>\n",
        "      <td> 34.046</td>\n",
        "      <td> True</td>\n",
        "    </tr>\n",
        "    <tr>\n",
        "      <th>2</th>\n",
        "      <td> 47.706</td>\n",
        "      <td> 47.807</td>\n",
        "      <td> True</td>\n",
        "    </tr>\n",
        "    <tr>\n",
        "      <th>3</th>\n",
        "      <td> 47.873</td>\n",
        "      <td> 47.906</td>\n",
        "      <td> True</td>\n",
        "    </tr>\n",
        "  </tbody>\n",
        "</table>\n",
        "</div>"
       ],
       "metadata": {},
       "output_type": "pyout",
       "prompt_number": 15,
       "text": [
        "   start_time  end_time  text\n",
        "0      11.827    11.891  True\n",
        "1      33.883    34.046  True\n",
        "2      47.706    47.807  True\n",
        "3      47.873    47.906  True"
       ]
      }
     ],
     "prompt_number": 15
    },
    {
     "cell_type": "code",
     "collapsed": false,
     "input": [
      "#plot the detected claps as well as the annotated claps\n",
      "plot_annotations({'annotated': open_intervalframe_from_textgrid(\"sampledata/test.TextGrid\")['CLAPS'],\n",
      "                  'detected': detected_claps}, linespan = 10, hscale=2)"
     ],
     "language": "python",
     "metadata": {},
     "outputs": [
      {
       "metadata": {},
       "output_type": "display_data",
       "png": "[encoded data removed]",
       "text": [
        "<matplotlib.figure.Figure at 0x1040df450>"
       ]
      }
     ],
     "prompt_number": 16
    }
   ],
   "metadata": {}
  }
 ]
}