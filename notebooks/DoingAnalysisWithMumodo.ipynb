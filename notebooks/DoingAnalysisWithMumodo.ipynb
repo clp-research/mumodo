{
 "metadata": {
  "name": "",
  "signature": "sha256:e9f69f92ab1d32ec7b0a4ea3e34ee5161f2196c681c9c2ef7f02e7a89dddcf84"
 },
 "nbformat": 3,
 "nbformat_minor": 0,
 "worksheets": [
  {
   "cells": [
    {
     "cell_type": "heading",
     "level": 1,
     "metadata": {},
     "source": [
      "Doing Analysis with Mumodo"
     ]
    },
    {
     "cell_type": "markdown",
     "metadata": {},
     "source": [
      "** Mumodo Demo Notebook ** - Updated on 24.04.2015\n",
      "\n",
      "** Summary: ** This notebook showcases some useful analysis functions offered by mumodo. It is advised to look into the documentation of the code for a comprehensive list of all functions\n",
      "\n",
      "**(c) Dialogue Systems Group, University of Bielefeld**"
     ]
    },
    {
     "cell_type": "code",
     "collapsed": false,
     "input": [
      "%matplotlib inline\n",
      "from mumodo.analysis import create_streamframe_from_intervalframe, create_intervalframe_from_streamframe, \\\n",
      "                            intervalframe_overlaps, intervalframe_union, invert_intervalframe, \\\n",
      "                            slice_streamframe_on_intervals, slice_intervalframe_by_time, \\\n",
      "                            get_tier_boundaries, get_tier_type, convert_times_of_tier, shift_tier, convert_times_of_tiers\n",
      "from mumodo.plotting import plot_annotations, plot_scalar\n",
      "import pandas as pd\n",
      "from random import random"
     ],
     "language": "python",
     "metadata": {},
     "outputs": [],
     "prompt_number": 1
    },
    {
     "cell_type": "heading",
     "level": 3,
     "metadata": {},
     "source": [
      "Manipulating IntervalFrames"
     ]
    },
    {
     "cell_type": "markdown",
     "metadata": {},
     "source": [
      "A typical analysis scenario involves manipulating interval frames. Let'look at some ways we can do that in mumodo. Suppose we have the following two IntervalFrames:"
     ]
    },
    {
     "cell_type": "code",
     "collapsed": false,
     "input": [
      "FrameA = pd.DataFrame([(0.1, 1.19, 'A'),\n",
      "                       (1.2, 4.16, 'A'),\n",
      "                       (8.1, 12.14, 'A'),\n",
      "                       (15.3, 16.1, 'A'),\n",
      "                       (17.9, 20.7, 'A')], columns=['start_time', 'end_time', 'text'])\n",
      "FrameB = pd.DataFrame([(3.2, 9.1, 'B'),\n",
      "                       (13.9, 18.02, 'B'),\n",
      "                       (21.06, 22.71, 'B')], columns=['start_time', 'end_time', 'text'])"
     ],
     "language": "python",
     "metadata": {},
     "outputs": [],
     "prompt_number": 2
    },
    {
     "cell_type": "code",
     "collapsed": false,
     "input": [
      "FrameA"
     ],
     "language": "python",
     "metadata": {},
     "outputs": [
      {
       "html": [
        "<div style=\"max-height:1000px;max-width:1500px;overflow:auto;\">\n",
        "<table border=\"1\" class=\"dataframe\">\n",
        "  <thead>\n",
        "    <tr style=\"text-align: right;\">\n",
        "      <th></th>\n",
        "      <th>start_time</th>\n",
        "      <th>end_time</th>\n",
        "      <th>text</th>\n",
        "    </tr>\n",
        "  </thead>\n",
        "  <tbody>\n",
        "    <tr>\n",
        "      <th>0</th>\n",
        "      <td>  0.1</td>\n",
        "      <td>  1.19</td>\n",
        "      <td> A</td>\n",
        "    </tr>\n",
        "    <tr>\n",
        "      <th>1</th>\n",
        "      <td>  1.2</td>\n",
        "      <td>  4.16</td>\n",
        "      <td> A</td>\n",
        "    </tr>\n",
        "    <tr>\n",
        "      <th>2</th>\n",
        "      <td>  8.1</td>\n",
        "      <td> 12.14</td>\n",
        "      <td> A</td>\n",
        "    </tr>\n",
        "    <tr>\n",
        "      <th>3</th>\n",
        "      <td> 15.3</td>\n",
        "      <td> 16.10</td>\n",
        "      <td> A</td>\n",
        "    </tr>\n",
        "    <tr>\n",
        "      <th>4</th>\n",
        "      <td> 17.9</td>\n",
        "      <td> 20.70</td>\n",
        "      <td> A</td>\n",
        "    </tr>\n",
        "  </tbody>\n",
        "</table>\n",
        "</div>"
       ],
       "metadata": {},
       "output_type": "pyout",
       "prompt_number": 3,
       "text": [
        "   start_time  end_time text\n",
        "0         0.1      1.19    A\n",
        "1         1.2      4.16    A\n",
        "2         8.1     12.14    A\n",
        "3        15.3     16.10    A\n",
        "4        17.9     20.70    A"
       ]
      }
     ],
     "prompt_number": 3
    },
    {
     "cell_type": "code",
     "collapsed": false,
     "input": [
      "FrameB"
     ],
     "language": "python",
     "metadata": {},
     "outputs": [
      {
       "html": [
        "<div style=\"max-height:1000px;max-width:1500px;overflow:auto;\">\n",
        "<table border=\"1\" class=\"dataframe\">\n",
        "  <thead>\n",
        "    <tr style=\"text-align: right;\">\n",
        "      <th></th>\n",
        "      <th>start_time</th>\n",
        "      <th>end_time</th>\n",
        "      <th>text</th>\n",
        "    </tr>\n",
        "  </thead>\n",
        "  <tbody>\n",
        "    <tr>\n",
        "      <th>0</th>\n",
        "      <td>  3.20</td>\n",
        "      <td>  9.10</td>\n",
        "      <td> B</td>\n",
        "    </tr>\n",
        "    <tr>\n",
        "      <th>1</th>\n",
        "      <td> 13.90</td>\n",
        "      <td> 18.02</td>\n",
        "      <td> B</td>\n",
        "    </tr>\n",
        "    <tr>\n",
        "      <th>2</th>\n",
        "      <td> 21.06</td>\n",
        "      <td> 22.71</td>\n",
        "      <td> B</td>\n",
        "    </tr>\n",
        "  </tbody>\n",
        "</table>\n",
        "</div>"
       ],
       "metadata": {},
       "output_type": "pyout",
       "prompt_number": 4,
       "text": [
        "   start_time  end_time text\n",
        "0        3.20      9.10    B\n",
        "1       13.90     18.02    B\n",
        "2       21.06     22.71    B"
       ]
      }
     ],
     "prompt_number": 4
    },
    {
     "cell_type": "heading",
     "level": 4,
     "metadata": {},
     "source": [
      "Get a slice from an IntervalFrame"
     ]
    },
    {
     "cell_type": "code",
     "collapsed": false,
     "input": [
      "#Get a slice of an intervalframe\n",
      "slice_intervalframe_by_time(FrameA, 1, 8)"
     ],
     "language": "python",
     "metadata": {},
     "outputs": [
      {
       "html": [
        "<div style=\"max-height:1000px;max-width:1500px;overflow:auto;\">\n",
        "<table border=\"1\" class=\"dataframe\">\n",
        "  <thead>\n",
        "    <tr style=\"text-align: right;\">\n",
        "      <th></th>\n",
        "      <th>start_time</th>\n",
        "      <th>end_time</th>\n",
        "      <th>text</th>\n",
        "    </tr>\n",
        "  </thead>\n",
        "  <tbody>\n",
        "    <tr>\n",
        "      <th>0</th>\n",
        "      <td> 1.0</td>\n",
        "      <td> 1.19</td>\n",
        "      <td> A</td>\n",
        "    </tr>\n",
        "    <tr>\n",
        "      <th>1</th>\n",
        "      <td> 1.2</td>\n",
        "      <td> 4.16</td>\n",
        "      <td> A</td>\n",
        "    </tr>\n",
        "  </tbody>\n",
        "</table>\n",
        "</div>"
       ],
       "metadata": {},
       "output_type": "pyout",
       "prompt_number": 5,
       "text": [
        "   start_time  end_time text\n",
        "0         1.0      1.19    A\n",
        "1         1.2      4.16    A"
       ]
      }
     ],
     "prompt_number": 5
    },
    {
     "cell_type": "code",
     "collapsed": false,
     "input": [
      "plot_annotations({'original A': FrameA, 'sliced A': slice_intervalframe_by_time(FrameA, 1, 8)}, linespan=30)"
     ],
     "language": "python",
     "metadata": {},
     "outputs": [
      {
       "metadata": {},
       "output_type": "display_data",
       "png": "[encoded data removed]",
       "text": [
        "<matplotlib.figure.Figure at 0x10cc20850>"
       ]
      }
     ],
     "prompt_number": 6
    },
    {
     "cell_type": "heading",
     "level": 4,
     "metadata": {},
     "source": [
      "Get the overlap/union of two IntervalFrames"
     ]
    },
    {
     "cell_type": "code",
     "collapsed": false,
     "input": [
      "plot_annotations({'A': FrameA,\n",
      "                  'B': FrameB,\n",
      "                  'overlap': intervalframe_overlaps(FrameA, FrameB),\n",
      "                  'union': intervalframe_union(FrameA, FrameB)},\n",
      "                 tierorder=['A', 'B', 'overlap', 'union'],\n",
      "                 linespan=30)"
     ],
     "language": "python",
     "metadata": {},
     "outputs": [
      {
       "metadata": {},
       "output_type": "display_data",
       "png": "[encoded data removed]",
       "text": [
        "<matplotlib.figure.Figure at 0x10cda3150>"
       ]
      }
     ],
     "prompt_number": 7
    },
    {
     "cell_type": "heading",
     "level": 4,
     "metadata": {},
     "source": [
      "Get the inverse of an intervalframe"
     ]
    },
    {
     "cell_type": "code",
     "collapsed": false,
     "input": [
      "plot_annotations({'original A': FrameA,\n",
      "                  'inverted A': invert_intervalframe(FrameA)}, linespan=30)"
     ],
     "language": "python",
     "metadata": {},
     "outputs": [
      {
       "metadata": {},
       "output_type": "display_data",
       "png": "[encoded data removed]",
       "text": [
        "<matplotlib.figure.Figure at 0x102e4e710>"
       ]
      }
     ],
     "prompt_number": 8
    },
    {
     "cell_type": "heading",
     "level": 4,
     "metadata": {},
     "source": [
      "Some useful functions for IntervalFrames"
     ]
    },
    {
     "cell_type": "code",
     "collapsed": false,
     "input": [
      "print get_tier_type(FrameA)  #can be one of 'point' or 'interval'\n",
      "print get_tier_boundaries(FrameA)  #get the start and end time of an IntervalFrame or PointFrame"
     ],
     "language": "python",
     "metadata": {},
     "outputs": [
      {
       "output_type": "stream",
       "stream": "stdout",
       "text": [
        "interval\n",
        "(0.10000000000000001, 20.699999999999999)\n"
       ]
      }
     ],
     "prompt_number": 9
    },
    {
     "cell_type": "code",
     "collapsed": false,
     "input": [
      "A_in_ms = FrameA.copy(deep=True) #make a copy of Frame A\n",
      "convert_times_of_tier(A_in_ms, lambda x: int(1000 * x)) #convert times to ms - changes the object 'in place'\n",
      "A_in_ms"
     ],
     "language": "python",
     "metadata": {},
     "outputs": [
      {
       "html": [
        "<div style=\"max-height:1000px;max-width:1500px;overflow:auto;\">\n",
        "<table border=\"1\" class=\"dataframe\">\n",
        "  <thead>\n",
        "    <tr style=\"text-align: right;\">\n",
        "      <th></th>\n",
        "      <th>start_time</th>\n",
        "      <th>end_time</th>\n",
        "      <th>text</th>\n",
        "    </tr>\n",
        "  </thead>\n",
        "  <tbody>\n",
        "    <tr>\n",
        "      <th>0</th>\n",
        "      <td>   100</td>\n",
        "      <td>  1190</td>\n",
        "      <td> A</td>\n",
        "    </tr>\n",
        "    <tr>\n",
        "      <th>1</th>\n",
        "      <td>  1200</td>\n",
        "      <td>  4160</td>\n",
        "      <td> A</td>\n",
        "    </tr>\n",
        "    <tr>\n",
        "      <th>2</th>\n",
        "      <td>  8100</td>\n",
        "      <td> 12140</td>\n",
        "      <td> A</td>\n",
        "    </tr>\n",
        "    <tr>\n",
        "      <th>3</th>\n",
        "      <td> 15300</td>\n",
        "      <td> 16100</td>\n",
        "      <td> A</td>\n",
        "    </tr>\n",
        "    <tr>\n",
        "      <th>4</th>\n",
        "      <td> 17900</td>\n",
        "      <td> 20700</td>\n",
        "      <td> A</td>\n",
        "    </tr>\n",
        "  </tbody>\n",
        "</table>\n",
        "</div>"
       ],
       "metadata": {},
       "output_type": "pyout",
       "prompt_number": 10,
       "text": [
        "   start_time  end_time text\n",
        "0         100      1190    A\n",
        "1        1200      4160    A\n",
        "2        8100     12140    A\n",
        "3       15300     16100    A\n",
        "4       17900     20700    A"
       ]
      }
     ],
     "prompt_number": 10
    },
    {
     "cell_type": "code",
     "collapsed": false,
     "input": [
      "A_shifted = FrameA.copy(deep=True) #make a copy of Frame A\n",
      "shift_tier(A_shifted, 3) #shifts all times by 3 seconds - changes the object 'in place'\n",
      "A_shifted"
     ],
     "language": "python",
     "metadata": {},
     "outputs": [
      {
       "html": [
        "<div style=\"max-height:1000px;max-width:1500px;overflow:auto;\">\n",
        "<table border=\"1\" class=\"dataframe\">\n",
        "  <thead>\n",
        "    <tr style=\"text-align: right;\">\n",
        "      <th></th>\n",
        "      <th>start_time</th>\n",
        "      <th>end_time</th>\n",
        "      <th>text</th>\n",
        "    </tr>\n",
        "  </thead>\n",
        "  <tbody>\n",
        "    <tr>\n",
        "      <th>0</th>\n",
        "      <td>  3.1</td>\n",
        "      <td>  4.19</td>\n",
        "      <td> A</td>\n",
        "    </tr>\n",
        "    <tr>\n",
        "      <th>1</th>\n",
        "      <td>  4.2</td>\n",
        "      <td>  7.16</td>\n",
        "      <td> A</td>\n",
        "    </tr>\n",
        "    <tr>\n",
        "      <th>2</th>\n",
        "      <td> 11.1</td>\n",
        "      <td> 15.14</td>\n",
        "      <td> A</td>\n",
        "    </tr>\n",
        "    <tr>\n",
        "      <th>3</th>\n",
        "      <td> 18.3</td>\n",
        "      <td> 19.10</td>\n",
        "      <td> A</td>\n",
        "    </tr>\n",
        "    <tr>\n",
        "      <th>4</th>\n",
        "      <td> 20.9</td>\n",
        "      <td> 23.70</td>\n",
        "      <td> A</td>\n",
        "    </tr>\n",
        "  </tbody>\n",
        "</table>\n",
        "</div>"
       ],
       "metadata": {},
       "output_type": "pyout",
       "prompt_number": 11,
       "text": [
        "   start_time  end_time text\n",
        "0         3.1      4.19    A\n",
        "1         4.2      7.16    A\n",
        "2        11.1     15.14    A\n",
        "3        18.3     19.10    A\n",
        "4        20.9     23.70    A"
       ]
      }
     ],
     "prompt_number": 11
    },
    {
     "cell_type": "code",
     "collapsed": false,
     "input": [
      "plot_annotations({'original_A': FrameA,\n",
      "                  'shifted_A': A_shifted}, linespan=30)"
     ],
     "language": "python",
     "metadata": {},
     "outputs": [
      {
       "metadata": {},
       "output_type": "display_data",
       "png": "[encoded data removed]",
       "text": [
        "<matplotlib.figure.Figure at 0x10d385150>"
       ]
      }
     ],
     "prompt_number": 12
    },
    {
     "cell_type": "heading",
     "level": 3,
     "metadata": {},
     "source": [
      "Manipulating StreamFrames"
     ]
    },
    {
     "cell_type": "markdown",
     "metadata": {},
     "source": [
      "Let as consider a typical time series as our tracking data"
     ]
    },
    {
     "cell_type": "code",
     "collapsed": false,
     "input": [
      "X = []\n",
      "for i in range(0, 25000, 20):\n",
      "    X.append((i, (i / 100) % 9, 3 * random() - 1.5))\n",
      "Stream = pd.DataFrame(X, columns=['time', 'sawtooth', 'noise'])\n",
      "Stream.index = Stream['time']\n",
      "Stream.index.name = None\n",
      "del Stream['time']"
     ],
     "language": "python",
     "metadata": {},
     "outputs": [],
     "prompt_number": 13
    },
    {
     "cell_type": "markdown",
     "metadata": {},
     "source": [
      "Due to the fact that time is the index of the StreamFrame, slicing is facilitated by Pandas:"
     ]
    },
    {
     "cell_type": "code",
     "collapsed": false,
     "input": [
      "#Get data between 140 and 450 ms\n",
      "Stream.ix[140:450]"
     ],
     "language": "python",
     "metadata": {},
     "outputs": [
      {
       "html": [
        "<div style=\"max-height:1000px;max-width:1500px;overflow:auto;\">\n",
        "<table border=\"1\" class=\"dataframe\">\n",
        "  <thead>\n",
        "    <tr style=\"text-align: right;\">\n",
        "      <th></th>\n",
        "      <th>sawtooth</th>\n",
        "      <th>noise</th>\n",
        "    </tr>\n",
        "  </thead>\n",
        "  <tbody>\n",
        "    <tr>\n",
        "      <th>140</th>\n",
        "      <td> 1</td>\n",
        "      <td> 1.122486</td>\n",
        "    </tr>\n",
        "    <tr>\n",
        "      <th>160</th>\n",
        "      <td> 1</td>\n",
        "      <td> 0.423973</td>\n",
        "    </tr>\n",
        "    <tr>\n",
        "      <th>180</th>\n",
        "      <td> 1</td>\n",
        "      <td>-1.318555</td>\n",
        "    </tr>\n",
        "    <tr>\n",
        "      <th>200</th>\n",
        "      <td> 2</td>\n",
        "      <td>-0.645495</td>\n",
        "    </tr>\n",
        "    <tr>\n",
        "      <th>220</th>\n",
        "      <td> 2</td>\n",
        "      <td> 0.869222</td>\n",
        "    </tr>\n",
        "    <tr>\n",
        "      <th>240</th>\n",
        "      <td> 2</td>\n",
        "      <td> 0.179023</td>\n",
        "    </tr>\n",
        "    <tr>\n",
        "      <th>260</th>\n",
        "      <td> 2</td>\n",
        "      <td>-0.762345</td>\n",
        "    </tr>\n",
        "    <tr>\n",
        "      <th>280</th>\n",
        "      <td> 2</td>\n",
        "      <td>-0.705659</td>\n",
        "    </tr>\n",
        "    <tr>\n",
        "      <th>300</th>\n",
        "      <td> 3</td>\n",
        "      <td> 1.259223</td>\n",
        "    </tr>\n",
        "    <tr>\n",
        "      <th>320</th>\n",
        "      <td> 3</td>\n",
        "      <td> 0.280827</td>\n",
        "    </tr>\n",
        "    <tr>\n",
        "      <th>340</th>\n",
        "      <td> 3</td>\n",
        "      <td>-1.419144</td>\n",
        "    </tr>\n",
        "    <tr>\n",
        "      <th>360</th>\n",
        "      <td> 3</td>\n",
        "      <td> 0.679977</td>\n",
        "    </tr>\n",
        "    <tr>\n",
        "      <th>380</th>\n",
        "      <td> 3</td>\n",
        "      <td> 1.373179</td>\n",
        "    </tr>\n",
        "    <tr>\n",
        "      <th>400</th>\n",
        "      <td> 4</td>\n",
        "      <td>-0.631176</td>\n",
        "    </tr>\n",
        "    <tr>\n",
        "      <th>420</th>\n",
        "      <td> 4</td>\n",
        "      <td> 0.768897</td>\n",
        "    </tr>\n",
        "    <tr>\n",
        "      <th>440</th>\n",
        "      <td> 4</td>\n",
        "      <td>-1.005416</td>\n",
        "    </tr>\n",
        "  </tbody>\n",
        "</table>\n",
        "</div>"
       ],
       "metadata": {},
       "output_type": "pyout",
       "prompt_number": 14,
       "text": [
        "     sawtooth     noise\n",
        "140         1  1.122486\n",
        "160         1  0.423973\n",
        "180         1 -1.318555\n",
        "200         2 -0.645495\n",
        "220         2  0.869222\n",
        "240         2  0.179023\n",
        "260         2 -0.762345\n",
        "280         2 -0.705659\n",
        "300         3  1.259223\n",
        "320         3  0.280827\n",
        "340         3 -1.419144\n",
        "360         3  0.679977\n",
        "380         3  1.373179\n",
        "400         4 -0.631176\n",
        "420         4  0.768897\n",
        "440         4 -1.005416"
       ]
      }
     ],
     "prompt_number": 14
    },
    {
     "cell_type": "markdown",
     "metadata": {},
     "source": [
      "The boundaries are also easy to get, e.g:"
     ]
    },
    {
     "cell_type": "code",
     "collapsed": false,
     "input": [
      "Stream.index.min(), Stream.index.max()  #alternatively: Stream.index[0], Stream.index[-1]"
     ],
     "language": "python",
     "metadata": {},
     "outputs": [
      {
       "metadata": {},
       "output_type": "pyout",
       "prompt_number": 15,
       "text": [
        "(0, 24980)"
       ]
      }
     ],
     "prompt_number": 15
    },
    {
     "cell_type": "markdown",
     "metadata": {},
     "source": [
      "Other functions can be performed between columns, or create new ones, e.g:"
     ]
    },
    {
     "cell_type": "code",
     "collapsed": false,
     "input": [
      "Stream['model'] = Stream['sawtooth'] + Stream['noise'] "
     ],
     "language": "python",
     "metadata": {},
     "outputs": [],
     "prompt_number": 16
    },
    {
     "cell_type": "markdown",
     "metadata": {},
     "source": [
      "Many Pandas methods exist to make analysis really user-friendly. Check Pandas documentation for more info"
     ]
    },
    {
     "cell_type": "code",
     "collapsed": false,
     "input": [
      "Stream['model'].describe()"
     ],
     "language": "python",
     "metadata": {},
     "outputs": [
      {
       "metadata": {},
       "output_type": "pyout",
       "prompt_number": 17,
       "text": [
        "count    1250.000000\n",
        "mean        3.947036\n",
        "std         2.725404\n",
        "min        -1.474620\n",
        "25%         1.574892\n",
        "50%         4.020390\n",
        "75%         6.142063\n",
        "max         9.497892\n",
        "Name: model, dtype: float64"
       ]
      }
     ],
     "prompt_number": 17
    },
    {
     "cell_type": "code",
     "collapsed": false,
     "input": [
      "plot_scalar(Stream, ['model', 'sawtooth', 'noise'], 2000, 6000) #a sawtooth + noise model"
     ],
     "language": "python",
     "metadata": {},
     "outputs": [
      {
       "metadata": {},
       "output_type": "display_data",
       "png": "[encoded data removed]",
       "text": [
        "<matplotlib.figure.Figure at 0x10cc70e10>"
       ]
      }
     ],
     "prompt_number": 18
    },
    {
     "cell_type": "heading",
     "level": 3,
     "metadata": {},
     "source": [
      "Interaction between IntervalFrames and StreamFrames"
     ]
    },
    {
     "cell_type": "markdown",
     "metadata": {},
     "source": [
      "Sometimes we want to abstract away from the raw data and instead create automatc annotations.\n",
      "\n",
      "We can do this easily in mumodo by applying functions to StreamFrames in order to generate IntervalFrames, e.g:"
     ]
    },
    {
     "cell_type": "code",
     "collapsed": false,
     "input": [
      "GeneratedIntervals = create_intervalframe_from_streamframe(Stream, 'model', lambda x: x > 6, 50) #apply a boolean function\n",
      "convert_times_of_tier(GeneratedIntervals, lambda x: float(x) / 1000) #turn times into seconds"
     ],
     "language": "python",
     "metadata": {},
     "outputs": [],
     "prompt_number": 19
    },
    {
     "cell_type": "code",
     "collapsed": false,
     "input": [
      "#plot the intervals in which the condition is satisfied\n",
      "plot_annotations({'Generated': GeneratedIntervals}, 2, 6, hscale=3.5)"
     ],
     "language": "python",
     "metadata": {},
     "outputs": [
      {
       "metadata": {},
       "output_type": "display_data",
       "png": "[encoded data removed]",
       "text": [
        "<matplotlib.figure.Figure at 0x10cc4cb90>"
       ]
      }
     ],
     "prompt_number": 20
    },
    {
     "cell_type": "markdown",
     "metadata": {},
     "source": [
      "We would also want to look into the value of a streamframe based on given intervals, e.g. what is the mean value of *model* during A, during B, and during overlaps of A and B? For this we can *slice_streamframe_on_intervals*"
     ]
    },
    {
     "cell_type": "code",
     "collapsed": false,
     "input": [
      "tierdict = {'A': FrameA.copy(deep=True),\n",
      "            'B': FrameB.copy(deep=True),\n",
      "            'O': intervalframe_overlaps(FrameA, FrameB)}\n",
      "#convert all times to ms\n",
      "convert_times_of_tiers(tierdict, lambda x: int(1000 * x))\n",
      "#slice the StreamFrame on each IntervalFrame and get the mean value\n",
      "for key in tierdict.keys():\n",
      "    avg = slice_streamframe_on_intervals(Stream, tierdict[key])['model'].mean()\n",
      "    print \"the mean value of model during intervals of {} is {}\".format(key, avg)"
     ],
     "language": "python",
     "metadata": {},
     "outputs": [
      {
       "output_type": "stream",
       "stream": "stdout",
       "text": [
        "the mean value of model during intervals of A is 3.81000510471\n",
        "the mean value of model during intervals of B is 4.10299520612\n",
        "the mean value of model during intervals of O is 3.76827686617\n"
       ]
      }
     ],
     "prompt_number": 21
    }
   ],
   "metadata": {}
  }
 ]
}